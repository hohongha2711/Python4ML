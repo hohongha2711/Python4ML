{
  "cells": [
    {
      "cell_type": "markdown",
      "metadata": {
        "id": "10K77WQnQ-4O"
      },
      "source": [
        "Hồ Hồng Hà - 20520480"
      ]
    },
    {
      "cell_type": "code",
      "execution_count": 1,
      "metadata": {
        "colab": {
          "base_uri": "https://localhost:8080/"
        },
        "id": "bb8L5A9DD3BF",
        "outputId": "c68f0ad4-7250-430f-a15c-640c07e36019"
      },
      "outputs": [
        {
          "name": "stdout",
          "output_type": "stream",
          "text": [
            "Requirement already satisfied: geopandas in e:\\program files (x86)\\python\\lib\\site-packages (0.11.1)\n",
            "Requirement already satisfied: pyproj>=2.6.1.post1 in e:\\program files (x86)\\python\\lib\\site-packages (from geopandas) (3.3.1)\n",
            "Requirement already satisfied: packaging in e:\\program files (x86)\\python\\lib\\site-packages (from geopandas) (21.3)\n",
            "Requirement already satisfied: fiona>=1.8 in e:\\program files (x86)\\python\\lib\\site-packages (from geopandas) (1.8.21)\n",
            "Requirement already satisfied: shapely<2,>=1.7 in e:\\program files (x86)\\python\\lib\\site-packages (from geopandas) (1.8.2)\n",
            "Requirement already satisfied: pandas>=1.0.0 in e:\\program files (x86)\\python\\lib\\site-packages (from geopandas) (1.5.0)\n",
            "Requirement already satisfied: gdal~=3.4.3 in e:\\program files (x86)\\python\\lib\\site-packages (from fiona>=1.8->geopandas) (3.4.3)\n",
            "Requirement already satisfied: six>=1.7 in e:\\program files (x86)\\python\\lib\\site-packages (from fiona>=1.8->geopandas) (1.16.0)\n",
            "Requirement already satisfied: munch in e:\\program files (x86)\\python\\lib\\site-packages (from fiona>=1.8->geopandas) (2.5.0)\n",
            "Requirement already satisfied: click>=4.0 in e:\\program files (x86)\\python\\lib\\site-packages (from fiona>=1.8->geopandas) (8.1.3)\n",
            "Requirement already satisfied: setuptools in e:\\program files (x86)\\python\\lib\\site-packages (from fiona>=1.8->geopandas) (58.1.0)\n",
            "Requirement already satisfied: certifi in e:\\program files (x86)\\python\\lib\\site-packages (from fiona>=1.8->geopandas) (2022.9.24)\n",
            "Requirement already satisfied: attrs>=17 in e:\\program files (x86)\\python\\lib\\site-packages (from fiona>=1.8->geopandas) (22.1.0)\n",
            "Requirement already satisfied: click-plugins>=1.0 in e:\\program files (x86)\\python\\lib\\site-packages (from fiona>=1.8->geopandas) (1.1.1)\n",
            "Requirement already satisfied: cligj>=0.5 in e:\\program files (x86)\\python\\lib\\site-packages (from fiona>=1.8->geopandas) (0.7.2)\n",
            "Requirement already satisfied: numpy>=1.21.0 in e:\\program files (x86)\\python\\lib\\site-packages (from pandas>=1.0.0->geopandas) (1.21.6)\n",
            "Requirement already satisfied: python-dateutil>=2.8.1 in e:\\program files (x86)\\python\\lib\\site-packages (from pandas>=1.0.0->geopandas) (2.8.2)\n",
            "Requirement already satisfied: pytz>=2020.1 in e:\\program files (x86)\\python\\lib\\site-packages (from pandas>=1.0.0->geopandas) (2022.2.1)\n",
            "Requirement already satisfied: pyparsing!=3.0.5,>=2.0.2 in e:\\program files (x86)\\python\\lib\\site-packages (from packaging->geopandas) (3.0.8)\n",
            "Requirement already satisfied: colorama in e:\\program files (x86)\\python\\lib\\site-packages (from click>=4.0->fiona>=1.8->geopandas) (0.4.4)\n",
            "Note: you may need to restart the kernel to use updated packages.\n"
          ]
        },
        {
          "name": "stderr",
          "output_type": "stream",
          "text": [
            "WARNING: Ignoring invalid distribution -ip (e:\\program files (x86)\\python\\lib\\site-packages)\n",
            "WARNING: Ignoring invalid distribution -ip (e:\\program files (x86)\\python\\lib\\site-packages)\n",
            "WARNING: Ignoring invalid distribution -ip (e:\\program files (x86)\\python\\lib\\site-packages)\n",
            "WARNING: Ignoring invalid distribution -ip (e:\\program files (x86)\\python\\lib\\site-packages)\n",
            "WARNING: Ignoring invalid distribution -ip (e:\\program files (x86)\\python\\lib\\site-packages)\n",
            "WARNING: Ignoring invalid distribution -ip (e:\\program files (x86)\\python\\lib\\site-packages)\n"
          ]
        }
      ],
      "source": [
        "pip install geopandas"
      ]
    },
    {
      "cell_type": "code",
      "execution_count": 2,
      "metadata": {
        "id": "HG2T6oMXD7kS"
      },
      "outputs": [],
      "source": [
        "import pandas as pd\n",
        "import geopandas as gpd"
      ]
    },
    {
      "cell_type": "code",
      "execution_count": 3,
      "metadata": {
        "colab": {
          "base_uri": "https://localhost:8080/"
        },
        "id": "KJbt7J-cD_GM",
        "outputId": "5c7698fe-fb53-4e7b-e7e8-14553aad38f6"
      },
      "outputs": [
        {
          "name": "stdout",
          "output_type": "stream",
          "text": [
            "Cloning into 'CSL_HCMC'...\n",
            "remote: Enumerating objects: 1957, done.\u001b[K\n",
            "remote: Counting objects: 100% (46/46), done.\u001b[K\n",
            "remote: Compressing objects: 100% (45/45), done.\u001b[K\n",
            "remote: Total 1957 (delta 7), reused 1 (delta 1), pack-reused 1911\u001b[K\n",
            "Receiving objects: 100% (1957/1957), 175.89 MiB | 14.74 MiB/s, done.\n",
            "Resolving deltas: 100% (1063/1063), done.\n",
            "Checking out files: 100% (542/542), done.\n"
          ]
        }
      ],
      "source": [
        "!git clone https://github.com/CityScope/CSL_HCMC"
      ]
    },
    {
      "cell_type": "code",
      "execution_count": 3,
      "metadata": {
        "id": "3BkZ8JZ0EDry"
      },
      "outputs": [],
      "source": [
        "data = gpd.read_file('CSL_HCMC/Data/GIS/Population/population_HCMC/population_shapefile/Population_Ward_Level.shp')"
      ]
    },
    {
      "cell_type": "code",
      "execution_count": 4,
      "metadata": {
        "colab": {
          "base_uri": "https://localhost:8080/",
          "height": 424
        },
        "id": "L50pmEGmGQNU",
        "outputId": "028fd6cb-9237-428f-fc86-0c6ea61d802d"
      },
      "outputs": [
        {
          "data": {
            "text/html": [
              "<div>\n",
              "<style scoped>\n",
              "    .dataframe tbody tr th:only-of-type {\n",
              "        vertical-align: middle;\n",
              "    }\n",
              "\n",
              "    .dataframe tbody tr th {\n",
              "        vertical-align: top;\n",
              "    }\n",
              "\n",
              "    .dataframe thead th {\n",
              "        text-align: right;\n",
              "    }\n",
              "</style>\n",
              "<table border=\"1\" class=\"dataframe\">\n",
              "  <thead>\n",
              "    <tr style=\"text-align: right;\">\n",
              "      <th></th>\n",
              "      <th>Com_Name</th>\n",
              "      <th>Dist_Name</th>\n",
              "      <th>Com_ID</th>\n",
              "      <th>Dist_ID</th>\n",
              "      <th>Level</th>\n",
              "      <th>Pop_2009</th>\n",
              "      <th>Pop_2019</th>\n",
              "      <th>Den_2009</th>\n",
              "      <th>Den_2019</th>\n",
              "      <th>Shape_Leng</th>\n",
              "      <th>Shape_Area</th>\n",
              "      <th>geometry</th>\n",
              "    </tr>\n",
              "  </thead>\n",
              "  <tbody>\n",
              "    <tr>\n",
              "      <th>0</th>\n",
              "      <td>Tan Dinh</td>\n",
              "      <td>District 1</td>\n",
              "      <td>26734</td>\n",
              "      <td>760</td>\n",
              "      <td>Ward</td>\n",
              "      <td>26571.0</td>\n",
              "      <td>23258.0</td>\n",
              "      <td>41942.70</td>\n",
              "      <td>36713.10</td>\n",
              "      <td>3679.098196</td>\n",
              "      <td>6.334981e+05</td>\n",
              "      <td>POLYGON ((684350.511 1193546.266, 684363.810 1...</td>\n",
              "    </tr>\n",
              "    <tr>\n",
              "      <th>1</th>\n",
              "      <td>Ben Nghe</td>\n",
              "      <td>District 1</td>\n",
              "      <td>26740</td>\n",
              "      <td>760</td>\n",
              "      <td>Ward</td>\n",
              "      <td>13580.0</td>\n",
              "      <td>10633.0</td>\n",
              "      <td>5480.09</td>\n",
              "      <td>4290.86</td>\n",
              "      <td>6978.149149</td>\n",
              "      <td>2.478041e+06</td>\n",
              "      <td>POLYGON ((686564.657 1193462.473, 686588.924 1...</td>\n",
              "    </tr>\n",
              "    <tr>\n",
              "      <th>2</th>\n",
              "      <td>Cau Ong Lanh</td>\n",
              "      <td>District 1</td>\n",
              "      <td>26752</td>\n",
              "      <td>760</td>\n",
              "      <td>Ward</td>\n",
              "      <td>12917.0</td>\n",
              "      <td>10737.0</td>\n",
              "      <td>56878.90</td>\n",
              "      <td>47279.50</td>\n",
              "      <td>2260.705105</td>\n",
              "      <td>2.270938e+05</td>\n",
              "      <td>POLYGON ((685922.373 1190479.807, 685914.160 1...</td>\n",
              "    </tr>\n",
              "    <tr>\n",
              "      <th>3</th>\n",
              "      <td>Nguyen Thai Binh</td>\n",
              "      <td>District 1</td>\n",
              "      <td>26746</td>\n",
              "      <td>760</td>\n",
              "      <td>Ward</td>\n",
              "      <td>13197.0</td>\n",
              "      <td>9716.0</td>\n",
              "      <td>26798.80</td>\n",
              "      <td>19730.00</td>\n",
              "      <td>3320.174618</td>\n",
              "      <td>4.924426e+05</td>\n",
              "      <td>POLYGON ((685966.333 1190513.667, 685944.353 1...</td>\n",
              "    </tr>\n",
              "    <tr>\n",
              "      <th>4</th>\n",
              "      <td>Co Giang</td>\n",
              "      <td>District 1</td>\n",
              "      <td>26755</td>\n",
              "      <td>760</td>\n",
              "      <td>Ward</td>\n",
              "      <td>18967.0</td>\n",
              "      <td>11517.0</td>\n",
              "      <td>53327.60</td>\n",
              "      <td>32381.20</td>\n",
              "      <td>2525.453814</td>\n",
              "      <td>3.556650e+05</td>\n",
              "      <td>POLYGON ((685514.573 1190211.431, 685547.521 1...</td>\n",
              "    </tr>\n",
              "    <tr>\n",
              "      <th>...</th>\n",
              "      <td>...</td>\n",
              "      <td>...</td>\n",
              "      <td>...</td>\n",
              "      <td>...</td>\n",
              "      <td>...</td>\n",
              "      <td>...</td>\n",
              "      <td>...</td>\n",
              "      <td>...</td>\n",
              "      <td>...</td>\n",
              "      <td>...</td>\n",
              "      <td>...</td>\n",
              "      <td>...</td>\n",
              "    </tr>\n",
              "    <tr>\n",
              "      <th>317</th>\n",
              "      <td>Tan Hung Thuan</td>\n",
              "      <td>District 12</td>\n",
              "      <td>26787</td>\n",
              "      <td>761</td>\n",
              "      <td>Ward</td>\n",
              "      <td>28892.0</td>\n",
              "      <td>33467.0</td>\n",
              "      <td>16053.40</td>\n",
              "      <td>18595.50</td>\n",
              "      <td>6271.308704</td>\n",
              "      <td>1.799659e+06</td>\n",
              "      <td>POLYGON ((677816.513 1197206.772, 677796.932 1...</td>\n",
              "    </tr>\n",
              "    <tr>\n",
              "      <th>318</th>\n",
              "      <td>Ward 17</td>\n",
              "      <td>Go Vap</td>\n",
              "      <td>26875</td>\n",
              "      <td>764</td>\n",
              "      <td>Ward</td>\n",
              "      <td>44226.0</td>\n",
              "      <td>54728.0</td>\n",
              "      <td>38061.20</td>\n",
              "      <td>47099.30</td>\n",
              "      <td>6385.950275</td>\n",
              "      <td>1.161947e+06</td>\n",
              "      <td>POLYGON ((683516.949 1200006.226, 683509.721 1...</td>\n",
              "    </tr>\n",
              "    <tr>\n",
              "      <th>319</th>\n",
              "      <td>Ward 8</td>\n",
              "      <td>Go Vap</td>\n",
              "      <td>26898</td>\n",
              "      <td>764</td>\n",
              "      <td>Ward</td>\n",
              "      <td>26545.0</td>\n",
              "      <td>32778.0</td>\n",
              "      <td>22751.50</td>\n",
              "      <td>28093.70</td>\n",
              "      <td>5409.821020</td>\n",
              "      <td>1.166701e+06</td>\n",
              "      <td>POLYGON ((680928.492 1199066.285, 680984.889 1...</td>\n",
              "    </tr>\n",
              "    <tr>\n",
              "      <th>320</th>\n",
              "      <td>Ward 9</td>\n",
              "      <td>Go Vap</td>\n",
              "      <td>26897</td>\n",
              "      <td>764</td>\n",
              "      <td>Ward</td>\n",
              "      <td>26785.0</td>\n",
              "      <td>34596.0</td>\n",
              "      <td>31843.10</td>\n",
              "      <td>41129.20</td>\n",
              "      <td>3950.799798</td>\n",
              "      <td>8.411288e+05</td>\n",
              "      <td>POLYGON ((681120.443 1199640.183, 681120.846 1...</td>\n",
              "    </tr>\n",
              "    <tr>\n",
              "      <th>321</th>\n",
              "      <td>Ward 12</td>\n",
              "      <td>Go Vap</td>\n",
              "      <td>26881</td>\n",
              "      <td>764</td>\n",
              "      <td>Ward</td>\n",
              "      <td>50356.0</td>\n",
              "      <td>60502.0</td>\n",
              "      <td>35096.20</td>\n",
              "      <td>42167.60</td>\n",
              "      <td>4848.143508</td>\n",
              "      <td>1.434747e+06</td>\n",
              "      <td>POLYGON ((679970.916 1198480.707, 679932.874 1...</td>\n",
              "    </tr>\n",
              "  </tbody>\n",
              "</table>\n",
              "<p>322 rows × 12 columns</p>\n",
              "</div>"
            ],
            "text/plain": [
              "             Com_Name    Dist_Name Com_ID Dist_ID Level  Pop_2009  Pop_2019  \\\n",
              "0            Tan Dinh   District 1  26734     760  Ward   26571.0   23258.0   \n",
              "1            Ben Nghe   District 1  26740     760  Ward   13580.0   10633.0   \n",
              "2        Cau Ong Lanh   District 1  26752     760  Ward   12917.0   10737.0   \n",
              "3    Nguyen Thai Binh   District 1  26746     760  Ward   13197.0    9716.0   \n",
              "4            Co Giang   District 1  26755     760  Ward   18967.0   11517.0   \n",
              "..                ...          ...    ...     ...   ...       ...       ...   \n",
              "317    Tan Hung Thuan  District 12  26787     761  Ward   28892.0   33467.0   \n",
              "318           Ward 17       Go Vap  26875     764  Ward   44226.0   54728.0   \n",
              "319            Ward 8       Go Vap  26898     764  Ward   26545.0   32778.0   \n",
              "320            Ward 9       Go Vap  26897     764  Ward   26785.0   34596.0   \n",
              "321           Ward 12       Go Vap  26881     764  Ward   50356.0   60502.0   \n",
              "\n",
              "     Den_2009  Den_2019   Shape_Leng    Shape_Area  \\\n",
              "0    41942.70  36713.10  3679.098196  6.334981e+05   \n",
              "1     5480.09   4290.86  6978.149149  2.478041e+06   \n",
              "2    56878.90  47279.50  2260.705105  2.270938e+05   \n",
              "3    26798.80  19730.00  3320.174618  4.924426e+05   \n",
              "4    53327.60  32381.20  2525.453814  3.556650e+05   \n",
              "..        ...       ...          ...           ...   \n",
              "317  16053.40  18595.50  6271.308704  1.799659e+06   \n",
              "318  38061.20  47099.30  6385.950275  1.161947e+06   \n",
              "319  22751.50  28093.70  5409.821020  1.166701e+06   \n",
              "320  31843.10  41129.20  3950.799798  8.411288e+05   \n",
              "321  35096.20  42167.60  4848.143508  1.434747e+06   \n",
              "\n",
              "                                              geometry  \n",
              "0    POLYGON ((684350.511 1193546.266, 684363.810 1...  \n",
              "1    POLYGON ((686564.657 1193462.473, 686588.924 1...  \n",
              "2    POLYGON ((685922.373 1190479.807, 685914.160 1...  \n",
              "3    POLYGON ((685966.333 1190513.667, 685944.353 1...  \n",
              "4    POLYGON ((685514.573 1190211.431, 685547.521 1...  \n",
              "..                                                 ...  \n",
              "317  POLYGON ((677816.513 1197206.772, 677796.932 1...  \n",
              "318  POLYGON ((683516.949 1200006.226, 683509.721 1...  \n",
              "319  POLYGON ((680928.492 1199066.285, 680984.889 1...  \n",
              "320  POLYGON ((681120.443 1199640.183, 681120.846 1...  \n",
              "321  POLYGON ((679970.916 1198480.707, 679932.874 1...  \n",
              "\n",
              "[322 rows x 12 columns]"
            ]
          },
          "execution_count": 4,
          "metadata": {},
          "output_type": "execute_result"
        }
      ],
      "source": [
        "data"
      ]
    },
    {
      "cell_type": "code",
      "execution_count": 8,
      "metadata": {
        "colab": {
          "base_uri": "https://localhost:8080/"
        },
        "id": "DFb1QuW7P4pD",
        "outputId": "f4c288bb-ab6d-4223-ab74-8742cdefc865"
      },
      "outputs": [
        {
          "name": "stdout",
          "output_type": "stream",
          "text": [
            "Phường có diện tích lớn nhất là phường Ly Nhon, quận Can Gio\n"
          ]
        }
      ],
      "source": [
        "max_area = data.loc[data['Shape_Area'].idxmax()]\n",
        "print(\"Phường có diện tích lớn nhất là phường {}, quận {}\".format(max_area['Com_Name'], max_area['Dist_Name']))"
      ]
    },
    {
      "cell_type": "code",
      "execution_count": 54,
      "metadata": {
        "colab": {
          "base_uri": "https://localhost:8080/"
        },
        "id": "dpcQsb1bJjTW",
        "outputId": "805731dd-1fdb-4910-dd74-a6f6549f4e13"
      },
      "outputs": [
        {
          "name": "stdout",
          "output_type": "stream",
          "text": [
            "Phường có dân số 2019 (Pop_2019) cao nhất là phường Vinh Loc A, quận Binh Chanh\n"
          ]
        }
      ],
      "source": [
        "#Phường nào có dân số 2019 (Pop_2019) cao nhất\n",
        "max_Pop = data.loc[data['Pop_2019'].idxmax()]\n",
        "print(\"Phường có dân số 2019 (Pop_2019) cao nhất là phường {}, quận {}\".format(max_Pop['Com_Name'],max_Pop['Dist_Name']))"
      ]
    },
    {
      "cell_type": "code",
      "execution_count": 55,
      "metadata": {
        "colab": {
          "base_uri": "https://localhost:8080/"
        },
        "id": "HWgOx8UfGkOd",
        "outputId": "9f5c8ccf-01e6-4d09-a677-1bb04de338b6"
      },
      "outputs": [
        {
          "name": "stdout",
          "output_type": "stream",
          "text": [
            "Phường có diện tích nhỏ nhất là phường Ward 3, quận District 10\n"
          ]
        }
      ],
      "source": [
        "#Phường có diện tích nhỏ nhất\n",
        "min_area = data.loc[data['Shape_Area'].idxmin()]\n",
        "print(\"Phường có diện tích nhỏ nhất là phường {}, quận {}\".format(min_area['Com_Name'], min_area['Dist_Name']))"
      ]
    },
    {
      "cell_type": "code",
      "execution_count": 56,
      "metadata": {
        "colab": {
          "base_uri": "https://localhost:8080/"
        },
        "id": "ANSfa7aLJn8w",
        "outputId": "0373c49a-1cf3-412a-cfed-827dde7a25b8"
      },
      "outputs": [
        {
          "name": "stdout",
          "output_type": "stream",
          "text": [
            "Phường có dân số 2019 (Pop_2019) thấp nhất là phường An Khanh, quận District 2\n"
          ]
        }
      ],
      "source": [
        "#Phường nào có dân số thấp nhất (2019)\n",
        "min_Pop = data.loc[data['Pop_2019'].idxmin()]\n",
        "print(\"Phường có dân số 2019 (Pop_2019) thấp nhất là phường {}, quận {}\".format(min_Pop['Com_Name'],min_Pop['Dist_Name']))"
      ]
    },
    {
      "cell_type": "code",
      "execution_count": 57,
      "metadata": {
        "colab": {
          "base_uri": "https://localhost:8080/"
        },
        "id": "JMI-tGw8Jo9a",
        "outputId": "eab7d97c-6ab8-42f4-8243-f964abed0667"
      },
      "outputs": [
        {
          "name": "stdout",
          "output_type": "stream",
          "text": [
            "Phường có tốc độ tăng trưởng dân số nhanh nhất (dựa trên Pop_2009 và Pop_2019) là phường Phu Huu, quận District 9\n"
          ]
        }
      ],
      "source": [
        "#Phường nào có tốc độ tăng trưởng dân số nhanh nhất (dựa trên Pop_2009 và Pop_2019)\n",
        "max_tang_truong = data.loc[(data['Pop_2019'] / data['Pop_2009']).idxmax()]\n",
        "print(\"Phường có tốc độ tăng trưởng dân số nhanh nhất (dựa trên Pop_2009 và Pop_2019) là phường {}, quận {}\".format(max_tang_truong['Com_Name'],max_tang_truong['Dist_Name']))"
      ]
    },
    {
      "cell_type": "code",
      "execution_count": 58,
      "metadata": {
        "colab": {
          "base_uri": "https://localhost:8080/"
        },
        "id": "VlzdoFqJJtQd",
        "outputId": "7223b582-8c7c-4f41-fe27-18ea43766ed5"
      },
      "outputs": [
        {
          "name": "stdout",
          "output_type": "stream",
          "text": [
            "Phường có tốc độ tăng trưởng dân số thấp nhất (dựa trên Pop_2009 và Pop_2019) là phường An Khanh, quận District 2\n"
          ]
        }
      ],
      "source": [
        "#Phường nào có tốc độ tăng trưởng dân số thấp nhất\n",
        "min_tang_truong = data.loc[(data['Pop_2019'] / data['Pop_2009']).idxmin()]\n",
        "print(\"Phường có tốc độ tăng trưởng dân số thấp nhất (dựa trên Pop_2009 và Pop_2019) là phường {}, quận {}\".format(min_tang_truong['Com_Name'],min_tang_truong['Dist_Name']))"
      ]
    },
    {
      "cell_type": "code",
      "execution_count": 59,
      "metadata": {
        "colab": {
          "base_uri": "https://localhost:8080/"
        },
        "id": "Ys6N093BJ0yB",
        "outputId": "37da3f47-ee50-4234-e122-5aaffd7d4731"
      },
      "outputs": [
        {
          "name": "stdout",
          "output_type": "stream",
          "text": [
            "Phường có biến động dân số nhanh nhất là phường Vinh Loc A, quận Binh Chanh\n"
          ]
        }
      ],
      "source": [
        "#Phường nào có biến động dân số nhanh nhất\n",
        "max_bien_dong = data.loc[(data['Pop_2019'] - data['Pop_2009']).idxmax()]\n",
        "print(\"Phường có biến động dân số nhanh nhất là phường {}, quận {}\".format(max_bien_dong['Com_Name'],max_bien_dong['Dist_Name']))"
      ]
    },
    {
      "cell_type": "code",
      "execution_count": 60,
      "metadata": {
        "colab": {
          "base_uri": "https://localhost:8080/"
        },
        "id": "VZL35O7VJ2iU",
        "outputId": "14b4d3e9-aee9-4bde-ea26-4ca997eae7d1"
      },
      "outputs": [
        {
          "name": "stdout",
          "output_type": "stream",
          "text": [
            "Phường có biến động dân số chậm nhất là phường Ward 2, quận Binh Thanh\n"
          ]
        }
      ],
      "source": [
        "#Phường nào có biến động dân số chậm nhất\n",
        "min_bien_dong = data.loc[abs((data['Pop_2019'] - data['Pop_2009'])).idxmin()]\n",
        "print(\"Phường có biến động dân số chậm nhất là phường {}, quận {}\".format(min_bien_dong['Com_Name'],min_bien_dong['Dist_Name']))"
      ]
    },
    {
      "cell_type": "code",
      "execution_count": 62,
      "metadata": {
        "colab": {
          "base_uri": "https://localhost:8080/"
        },
        "id": "6lTolBhlJ4yH",
        "outputId": "5650a9ba-5582-4e63-d6b6-d0ec7023cf3a"
      },
      "outputs": [
        {
          "name": "stdout",
          "output_type": "stream",
          "text": [
            "Phường có mật độ dân số cao nhất là phường Ward 8, quận District 4\n"
          ]
        }
      ],
      "source": [
        "#Phường nào có mật độ dân số cao nhất (2019)\n",
        "max_mat_do = data.loc[abs((data['Pop_2019']/data['Shape_Area'])).idxmax()]\n",
        "print(\"Phường có mật độ dân số cao nhất là phường {}, quận {}\".format(max_mat_do['Com_Name'],max_mat_do['Dist_Name']))"
      ]
    },
    {
      "cell_type": "code",
      "execution_count": 63,
      "metadata": {
        "colab": {
          "base_uri": "https://localhost:8080/"
        },
        "id": "v1nxGFOJJ7qz",
        "outputId": "c4fee777-c8ca-4a33-8a61-a8f09392b8aa"
      },
      "outputs": [
        {
          "name": "stdout",
          "output_type": "stream",
          "text": [
            "Phường có mật độ dân số thấp nhất là phường Ly Nhon, quận Can Gio\n"
          ]
        }
      ],
      "source": [
        "#Phường nào có mật độ dân số thấp nhất (2019)\n",
        "min_mat_do = data.loc[abs((data['Pop_2019']/data['Shape_Area'])).idxmin()]\n",
        "print(\"Phường có mật độ dân số thấp nhất là phường {}, quận {}\".format(min_mat_do['Com_Name'],min_mat_do['Dist_Name']))"
      ]
    }
  ],
  "metadata": {
    "colab": {
      "provenance": []
    },
    "kernelspec": {
      "display_name": "Python 3.10.4 64-bit",
      "language": "python",
      "name": "python3"
    },
    "language_info": {
      "codemirror_mode": {
        "name": "ipython",
        "version": 3
      },
      "file_extension": ".py",
      "mimetype": "text/x-python",
      "name": "python",
      "nbconvert_exporter": "python",
      "pygments_lexer": "ipython3",
      "version": "3.10.4"
    },
    "vscode": {
      "interpreter": {
        "hash": "7cecbf7254abf90af7889562a232cddcfa2d0e4d9ab85ee1b7e3413a6b3e85be"
      }
    }
  },
  "nbformat": 4,
  "nbformat_minor": 0
}
